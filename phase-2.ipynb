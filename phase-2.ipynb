{
 "cells": [
  {
   "cell_type": "code",
   "execution_count": 1,
   "metadata": {},
   "outputs": [],
   "source": [
    "import numpy as np"
   ]
  },
  {
   "cell_type": "markdown",
   "metadata": {},
   "source": [
    "Numpy Array opreations"
   ]
  },
  {
   "cell_type": "code",
   "execution_count": 8,
   "metadata": {},
   "outputs": [
    {
     "name": "stdout",
     "output_type": "stream",
     "text": [
      "Basic Slicing [3 4 5 6 7]\n",
      "With Step: [2 4 6 8]\n",
      "Negative Indexing 8\n"
     ]
    }
   ],
   "source": [
    "arr = np.array([1,2,3,4,5,6,7,8,9,10])\n",
    "print(\"Basic Slicing\", arr[2:7])\n",
    "print(\"With Step:\", arr[1:8:2])\n",
    "print(\"Negative Indexing\", arr[-3])"
   ]
  },
  {
   "cell_type": "markdown",
   "metadata": {},
   "source": [
    "2D Array"
   ]
  },
  {
   "cell_type": "code",
   "execution_count": 12,
   "metadata": {},
   "outputs": [
    {
     "name": "stdout",
     "output_type": "stream",
     "text": [
      "Specifc Element 6\n",
      "Entrire Row: [4 5 6]\n",
      "Entire Column: [2 5 8]\n"
     ]
    }
   ],
   "source": [
    "arr_2d = np.array([[1,2,3,], [4,5,6,],[7,8,9]])\n",
    "print(\"Specifc Element\", arr_2d[1,2])\n",
    "print(\"Entrire Row:\", arr_2d[1])\n",
    "print(\"Entire Column:\", arr_2d[:, 1])"
   ]
  },
  {
   "cell_type": "markdown",
   "metadata": {},
   "source": [
    "Sorting"
   ]
  },
  {
   "cell_type": "code",
   "execution_count": 21,
   "metadata": {},
   "outputs": [
    {
     "name": "stdout",
     "output_type": "stream",
     "text": [
      "Sorted Array [5 5 6 6 9]\n",
      "Sorted 2D Array [[5 5 6 6 9]\n",
      " [1 2 3 4 5]]\n"
     ]
    }
   ],
   "source": [
    "unsorted = np.array([9,5,6,5,6])\n",
    "print(\"Sorted Array\", np.sort(unsorted))\n",
    "\n",
    "unsorted_2dArray = np.array([[9,5,6,5,6],[1,2,3,4,5]])\n",
    "print(\"Sorted 2D Array\", np.sort(unsorted_2dArray, axis=1))\n"
   ]
  },
  {
   "cell_type": "markdown",
   "metadata": {},
   "source": [
    "Filter"
   ]
  },
  {
   "cell_type": "code",
   "execution_count": 22,
   "metadata": {},
   "outputs": [
    {
     "name": "stdout",
     "output_type": "stream",
     "text": [
      "Even Number [ 2  4  6  8 10]\n"
     ]
    }
   ],
   "source": [
    "data = np.array([1,2,3,4,5,6,7,8,9,10])\n",
    "even_number = data[data % 2 == 0]\n",
    "print(\"Even Number\", even_number)\n"
   ]
  },
  {
   "cell_type": "markdown",
   "metadata": {},
   "source": [
    "Filter with MASK"
   ]
  },
  {
   "cell_type": "code",
   "execution_count": 23,
   "metadata": {},
   "outputs": [
    {
     "name": "stdout",
     "output_type": "stream",
     "text": [
      "Number Greater than 5 [ 6  7  8  9 10]\n"
     ]
    }
   ],
   "source": [
    "mask = data > 5\n",
    "print(\"Number Greater than 5\", data[mask])"
   ]
  },
  {
   "cell_type": "markdown",
   "metadata": {},
   "source": [
    "Fancy indexing vs np.where()"
   ]
  },
  {
   "cell_type": "code",
   "execution_count": 31,
   "metadata": {},
   "outputs": [
    {
     "name": "stdout",
     "output_type": "stream",
     "text": [
      "Fancy Indexing [2 4 6]\n",
      "Where Result [  1   2   3   4   5  60  70  80  90 100]\n",
      "Where Result ['Low' 'Low' 'Low' 'Low' 'Low' 'High' 'High' 'High' 'High' 'High']\n"
     ]
    }
   ],
   "source": [
    "indiece = np.array([1,3,5])\n",
    "print(\"Fancy Indexing\", data[indiece])\n",
    "\n",
    "where_result = np.where(data > 5, data * 10, data)\n",
    "print(\"Where Result\", where_result)\n",
    "\n",
    "where_result = np.where(data > 5, \"High\", \"Low\")\n",
    "print(\"Where Result\", where_result)\n"
   ]
  },
  {
   "cell_type": "markdown",
   "metadata": {},
   "source": [
    "Adding and Remving\n"
   ]
  },
  {
   "cell_type": "code",
   "execution_count": 33,
   "metadata": {},
   "outputs": [
    {
     "name": "stdout",
     "output_type": "stream",
     "text": [
      "Combined [ 7  9 11 13 15]\n",
      "Concatenated [ 1  2  3  4  5  6  7  8  9 10]\n"
     ]
    }
   ],
   "source": [
    "arr1 = np.array([1,2,3,4,5])\n",
    "arr2 = np.array([6,7,8,9,10])\n",
    "\n",
    "combined = arr1 + arr2\n",
    "print(\"Combined\", combined)\n",
    "\n",
    "concatenated = np.concatenate((arr1, arr2))\n",
    "print(\"Concatenated\", concatenated)\n"
   ]
  },
  {
   "cell_type": "markdown",
   "metadata": {},
   "source": [
    "Array Compatibilty"
   ]
  },
  {
   "cell_type": "code",
   "execution_count": 34,
   "metadata": {},
   "outputs": [
    {
     "name": "stdout",
     "output_type": "stream",
     "text": [
      "Compatibilty Sahpaes (3,)\n"
     ]
    }
   ],
   "source": [
    "a = np.array([1,2,3])\n",
    "b = np.array([4,5,6])\n",
    "c = np.array([7,8,9])\n",
    "\n",
    "print(\"Compatibilty Sahpaes\", a.shape == b.shape)\n",
    "\n",
    "\n"
   ]
  },
  {
   "cell_type": "code",
   "execution_count": null,
   "metadata": {},
   "outputs": [],
   "source": []
  }
 ],
 "metadata": {
  "kernelspec": {
   "display_name": "myenv",
   "language": "python",
   "name": "python3"
  },
  "language_info": {
   "codemirror_mode": {
    "name": "ipython",
    "version": 3
   },
   "file_extension": ".py",
   "mimetype": "text/x-python",
   "name": "python",
   "nbconvert_exporter": "python",
   "pygments_lexer": "ipython3",
   "version": "3.12.7"
  }
 },
 "nbformat": 4,
 "nbformat_minor": 2
}
